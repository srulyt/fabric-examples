{
 "cells": [
  {
   "cell_type": "markdown",
   "metadata": {},
   "source": [
    "# Generate a OneLake SAS token\n",
    "\n",
    "## Authentication\n",
    "\n",
    "This notebook uses interactive credentials which means it will open a browser window for interactive authentication.\n",
    "Authentication behavior can be changed by altering the credential aquisition code below. Consult the [documentation](https://learn.microsoft.com/en-us/dotnet/api/overview/azure/identity-readme?view=azure-dotnet) for more details.\n",
    "\n",
    "```csharp-interactive\n",
    "var cred = new DefaultAzureCredential (includeInteractiveCredentials: true);\n",
    "```\n",
    "\n",
    "## Usage\n",
    "\n",
    "To use this notebook, \n",
    "\n",
    "1. Replace the workspace id variable in the second cell with your workspace id.\n",
    "1. Replace the path with the path to which you want to generate a SAS token. The path should start with the item id GUID.\n",
    "1. If you want to share a directory, change the isDirectory variable to true.\n",
    "1. Run the notebook\n",
    "1. Copy the link below the second cell \n",
    "\n",
    "\n"
   ]
  },
  {
   "cell_type": "code",
   "execution_count": 1,
   "metadata": {
    "polyglot_notebook": {
     "kernelName": "csharp"
    }
   },
   "outputs": [
    {
     "data": {
      "text/html": [
       "<div><div></div><div></div><div><strong>Installed Packages</strong><ul><li><span>Azure.Identity, 1.13.2</span></li><li><span>Azure.Storage.Files.DataLake, 12.22.0</span></li></ul></div></div>"
      ]
     },
     "metadata": {},
     "output_type": "display_data"
    }
   ],
   "source": [
    "#r \"nuget: Azure.Identity, 1.13.2\"\n",
    "#r \"nuget: Azure.Storage.Files.DataLake, 12.22.0\"\n",
    "\n",
    "using Azure.Core;\n",
    "using Azure.Identity;\n",
    "using Azure.Storage.Files.DataLake;\n",
    "using Azure.Storage.Sas;\n",
    "\n",
    "var cred = new DefaultAzureCredential (includeInteractiveCredentials: true);"
   ]
  },
  {
   "cell_type": "code",
   "execution_count": null,
   "metadata": {
    "polyglot_notebook": {
     "kernelName": "csharp"
    }
   },
   "outputs": [
    {
     "ename": "Error",
     "evalue": "Azure.RequestFailedException: {\"error\":{\"code\":\"PowerBINotAuthorizedException\",\"pbi.error\":{\"code\":\"PowerBINotAuthorizedException\",\"parameters\":{},\"details\":[],\"exceptionCulprit\":1}}}\r\nStatus: 400 (Bad Request)\r\nErrorCode: BadRequest\r\n\r\nContent:\r\n{\r\n  \"error\": {\r\n    \"code\": \"BadRequest\",\r\n    \"message\": \"{\\\"error\\\":{\\\"code\\\":\\\"PowerBINotAuthorizedException\\\",\\\"pbi.error\\\":{\\\"code\\\":\\\"PowerBINotAuthorizedException\\\",\\\"parameters\\\":{},\\\"details\\\":[],\\\"exceptionCulprit\\\":1}}}\",\r\n    \"target\": null,\r\n    \"details\": null\r\n  }\r\n}\r\n\r\nHeaders:\r\nServer: Microsoft-HTTPAPI/2.0\r\nAccess-Control-Allow-Origin: *\r\nAccess-Control-Allow-Headers: REDACTED\r\nAccess-Control-Allow-Methods: REDACTED\r\nAccess-Control-Expose-Headers: REDACTED\r\nStrict-Transport-Security: REDACTED\r\nX-Content-Type-Options: REDACTED\r\nx-ms-root-activity-id: REDACTED\r\nDate: Fri, 04 Apr 2025 05:33:24 GMT\r\nContent-Length: 283\r\nContent-Type: application/json; charset=utf-8\r\n\r\n   at Azure.Storage.Blobs.ServiceRestClient.GetUserDelegationKeyAsync(KeyInfo keyInfo, Nullable`1 timeout, CancellationToken cancellationToken)\r\n   at Azure.Storage.Blobs.BlobServiceClient.GetUserDelegationKeyInternal(Nullable`1 startsOn, DateTimeOffset expiresOn, Boolean async, CancellationToken cancellationToken)\r\n   at Azure.Storage.Blobs.BlobServiceClient.GetUserDelegationKeyAsync(Nullable`1 startsOn, DateTimeOffset expiresOn, CancellationToken cancellationToken)\r\n   at Azure.Storage.Files.DataLake.DataLakeServiceClient.GetUserDelegationKeyAsync(Nullable`1 startsOn, DateTimeOffset expiresOn, CancellationToken cancellationToken)\r\n   at Submission#2.<<Initialize>>d__0.MoveNext()\r\n--- End of stack trace from previous location ---\r\n   at Microsoft.CodeAnalysis.Scripting.ScriptExecutionState.RunSubmissionsAsync[TResult](ImmutableArray`1 precedingExecutors, Func`2 currentExecutor, StrongBox`1 exceptionHolderOpt, Func`2 catchExceptionOpt, CancellationToken cancellationToken)",
     "output_type": "error",
     "traceback": [
      "Azure.RequestFailedException: {\"error\":{\"code\":\"PowerBINotAuthorizedException\",\"pbi.error\":{\"code\":\"PowerBINotAuthorizedException\",\"parameters\":{},\"details\":[],\"exceptionCulprit\":1}}}\r\n",
      "Status: 400 (Bad Request)\r\n",
      "ErrorCode: BadRequest\r\n",
      "\r\n",
      "Content:\r\n",
      "{\r\n",
      "  \"error\": {\r\n",
      "    \"code\": \"BadRequest\",\r\n",
      "    \"message\": \"{\\\"error\\\":{\\\"code\\\":\\\"PowerBINotAuthorizedException\\\",\\\"pbi.error\\\":{\\\"code\\\":\\\"PowerBINotAuthorizedException\\\",\\\"parameters\\\":{},\\\"details\\\":[],\\\"exceptionCulprit\\\":1}}}\",\r\n",
      "    \"target\": null,\r\n",
      "    \"details\": null\r\n",
      "  }\r\n",
      "}\r\n",
      "\r\n",
      "Headers:\r\n",
      "Server: Microsoft-HTTPAPI/2.0\r\n",
      "Access-Control-Allow-Origin: *\r\n",
      "Access-Control-Allow-Headers: REDACTED\r\n",
      "Access-Control-Allow-Methods: REDACTED\r\n",
      "Access-Control-Expose-Headers: REDACTED\r\n",
      "Strict-Transport-Security: REDACTED\r\n",
      "X-Content-Type-Options: REDACTED\r\n",
      "x-ms-root-activity-id: REDACTED\r\n",
      "Date: Fri, 04 Apr 2025 05:33:24 GMT\r\n",
      "Content-Length: 283\r\n",
      "Content-Type: application/json; charset=utf-8\r\n",
      "\r\n",
      "   at Azure.Storage.Blobs.ServiceRestClient.GetUserDelegationKeyAsync(KeyInfo keyInfo, Nullable`1 timeout, CancellationToken cancellationToken)\r\n",
      "   at Azure.Storage.Blobs.BlobServiceClient.GetUserDelegationKeyInternal(Nullable`1 startsOn, DateTimeOffset expiresOn, Boolean async, CancellationToken cancellationToken)\r\n",
      "   at Azure.Storage.Blobs.BlobServiceClient.GetUserDelegationKeyAsync(Nullable`1 startsOn, DateTimeOffset expiresOn, CancellationToken cancellationToken)\r\n",
      "   at Azure.Storage.Files.DataLake.DataLakeServiceClient.GetUserDelegationKeyAsync(Nullable`1 startsOn, DateTimeOffset expiresOn, CancellationToken cancellationToken)\r\n",
      "   at Submission#2.<<Initialize>>d__0.MoveNext()\r\n",
      "--- End of stack trace from previous location ---\r\n",
      "   at Microsoft.CodeAnalysis.Scripting.ScriptExecutionState.RunSubmissionsAsync[TResult](ImmutableArray`1 precedingExecutors, Func`2 currentExecutor, StrongBox`1 exceptionHolderOpt, Func`2 catchExceptionOpt, CancellationToken cancellationToken)"
     ]
    }
   ],
   "source": [
    "var workspaceid = \"Guid of your workspace id\";\n",
    "var path = \"Path to the file or folder you want to share. The path should begin with the item id  example {82cfff6e-9941-460c-a2ed-6981297d50da/Files/myfolder/myfile.json\";\n",
    "var isDirectory = false;\n",
    "var permissions = DataLakeAccountSasPermissions.Read | DataLakeAccountSasPermissions.List;\n",
    "\n",
    "var oneLakeUri = \"https://onelake.dfs.fabric.microsoft.com/\";\n",
    "var client = new DataLakeServiceClient(new Uri(oneLakeUri), (TokenCredential)cred);\n",
    "\n",
    "var delegationKey = await client.GetUserDelegationKeyAsync(DateTimeOffset.UtcNow.AddMinutes(-2), DateTimeOffset.UtcNow.AddMinutes(30));\n",
    "var sasBuilder = new DataLakeSasBuilder\n",
    "{\n",
    "    FileSystemName = workspaceid,\n",
    "    Path = path,\n",
    "    StartsOn = DateTimeOffset.UtcNow.AddMinutes(-1),\n",
    "    ExpiresOn = DateTimeOffset.UtcNow.AddMinutes(20),\n",
    "    IsDirectory = isDirectory,\n",
    "    Resource = isDirectory ? \"d\" : \"b\",\n",
    "};\n",
    "\n",
    "sasBuilder.SetPermissions(permissions);\n",
    "var token = sasBuilder.ToSasQueryParameters(delegationKey, \"onelake\");\n",
    "\n",
    "Console.WriteLine($\"{oneLakeUri}{workspaceid}/{path}?{token}\");\n",
    "return;"
   ]
  }
 ],
 "metadata": {
  "kernelspec": {
   "display_name": ".NET (C#)",
   "language": "C#",
   "name": ".net-csharp"
  },
  "polyglot_notebook": {
   "kernelInfo": {
    "defaultKernelName": "csharp",
    "items": [
     {
      "aliases": [],
      "languageName": "csharp",
      "name": "csharp"
     }
    ]
   }
  }
 },
 "nbformat": 4,
 "nbformat_minor": 2
}
